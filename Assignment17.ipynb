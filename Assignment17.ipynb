{
 "cells": [
  {
   "cell_type": "raw",
   "id": "be24e57f-8e2c-4a2d-861e-822d9307e416",
   "metadata": {},
   "source": [
    "1. Assign the value 7 to the variable guess_me. Then, write the conditional tests (if, else, and elif) to print the string 'too low' if guess_me is less than 7, 'too high' if greater than 7, and 'just right' if equal to 7."
   ]
  },
  {
   "cell_type": "code",
   "execution_count": 1,
   "id": "3c669b0d-7e1f-43d6-be61-cfdfd92f12fb",
   "metadata": {},
   "outputs": [
    {
     "name": "stdout",
     "output_type": "stream",
     "text": [
      "just Right\n",
      "too Low\n",
      "too High\n"
     ]
    }
   ],
   "source": [
    "def guess_me(guess_me):\n",
    "    if guess_me < 7:\n",
    "        print('too Low')\n",
    "    elif guess_me > 7:\n",
    "        print('too High')\n",
    "    else:\n",
    "        print('just Right')\n",
    "\n",
    "guess_me(guess_me=7)\n",
    "guess_me(guess_me=5)\n",
    "guess_me(guess_me=15)"
   ]
  },
  {
   "cell_type": "code",
   "execution_count": null,
   "id": "c0391a36-59f7-49e1-a5b1-9ac0067d4c83",
   "metadata": {},
   "outputs": [],
   "source": [
    "2. Assign the value 7 to the variable guess_me and the value 1 to the variable start. \n",
    "Write a while loop that compares start with guess_me. Print too low if start is less than guess me. \n",
    "If start equals guess_me, print 'found it!' and exit the loop. If start is greater than guess_me, \n",
    "print 'oops' and exit the loop. Increment start at the end of the loop\n"
   ]
  },
  {
   "cell_type": "code",
   "execution_count": 2,
   "id": "ab969382-109c-495c-95aa-af67d73a5a21",
   "metadata": {},
   "outputs": [
    {
     "name": "stdout",
     "output_type": "stream",
     "text": [
      "too low\n",
      "too low\n",
      "too low\n",
      "too low\n",
      "too low\n",
      "too low\n",
      "found it\n"
     ]
    }
   ],
   "source": [
    "guess_me = 7\n",
    "start = 1\n",
    "while True:\n",
    "    if start < guess_me:\n",
    "        print('too low')\n",
    "    elif start == guess_me:\n",
    "        print('found it')\n",
    "        break\n",
    "    else:\n",
    "        print('oops')\n",
    "        break\n",
    "    start += 1"
   ]
  },
  {
   "cell_type": "code",
   "execution_count": null,
   "id": "9e90b8ad-d325-4aef-aa36-50004fd1fa2b",
   "metadata": {},
   "outputs": [],
   "source": [
    "3. Print the following values of the list [3, 2, 1, 0] using a for loop.\n"
   ]
  },
  {
   "cell_type": "code",
   "execution_count": null,
   "id": "09c59a3a-93b7-4bb2-a77b-0554e8d84fca",
   "metadata": {},
   "outputs": [
    {
     "name": "stdout",
     "output_type": "stream",
     "text": [
      "3\n",
      "2\n",
      "1\n",
      "0\n"
     ]
    }
   ],
   "source": [
    "in_list = [3,2,1,0]\n",
    "for ele in in_list:\n",
    "    print(ele)"
   ]
  },
  {
   "cell_type": "code",
   "execution_count": null,
   "id": "60db2898-c147-4a2a-a279-e8f8263b89ba",
   "metadata": {},
   "outputs": [],
   "source": [
    "4. Use a list comprehension to make a list of the even numbers in range(10)\n"
   ]
  },
  {
   "cell_type": "code",
   "execution_count": 4,
   "id": "44928a49-440c-42e3-b583-2c1675795351",
   "metadata": {},
   "outputs": [
    {
     "name": "stdout",
     "output_type": "stream",
     "text": [
      "[0, 2, 4, 6, 8, 10]\n"
     ]
    }
   ],
   "source": [
    "print([x for x in range(10+1) if x%2==0 ])"
   ]
  },
  {
   "cell_type": "code",
   "execution_count": null,
   "id": "8b6d1f33-11a4-4e5f-81ff-4c807dd26832",
   "metadata": {},
   "outputs": [],
   "source": [
    "5. Use a dictionary comprehension to create the dictionary squares. Use range(10) to return the keys, and use the square of each key as its value.\n"
   ]
  },
  {
   "cell_type": "code",
   "execution_count": 5,
   "id": "e04a04c9-a75d-4c25-bd86-2a0b50f247fd",
   "metadata": {},
   "outputs": [
    {
     "name": "stdout",
     "output_type": "stream",
     "text": [
      "{0: 0, 1: 1, 2: 4, 3: 9, 4: 16, 5: 25, 6: 36, 7: 49, 8: 64, 9: 81}\n",
      "{0: 0, 1: 1, 2: 4, 3: 9, 4: 16, 5: 25, 6: 36, 7: 49, 8: 64, 9: 81}\n"
     ]
    }
   ],
   "source": [
    "# Method 1\n",
    "print(dict([(x,pow(x,2)) for x in range(10)]))\n",
    "# Method 2\n",
    "print({x:x**2 for x in range(10)})"
   ]
  },
  {
   "cell_type": "code",
   "execution_count": null,
   "id": "972ca2b6-bc9c-4da0-8493-a62a4015f764",
   "metadata": {},
   "outputs": [],
   "source": [
    "6. Construct the set odd from the odd numbers in the range using a set comprehension (10)."
   ]
  },
  {
   "cell_type": "code",
   "execution_count": 6,
   "id": "e140de17-504e-42a8-89eb-9b3ea7d4d056",
   "metadata": {},
   "outputs": [
    {
     "name": "stdout",
     "output_type": "stream",
     "text": [
      "{1, 3, 5, 7, 9}\n"
     ]
    }
   ],
   "source": [
    "print({x for x in range(10) if x%2 !=0})"
   ]
  },
  {
   "cell_type": "code",
   "execution_count": null,
   "id": "200c9c6b-c142-474d-9b99-aa43e1b68a5f",
   "metadata": {},
   "outputs": [],
   "source": [
    "7. Use a generator comprehension to return the string 'Got ' and a number for the numbers in range(10). Iterate through this by using a for loop"
   ]
  },
  {
   "cell_type": "code",
   "execution_count": 7,
   "id": "7e4d1679-a803-4ed0-a82e-c528cb9d9ebc",
   "metadata": {},
   "outputs": [
    {
     "name": "stdout",
     "output_type": "stream",
     "text": [
      "Got_0 Got_1 Got_2 Got_3 Got_4 Got_5 Got_6 Got_7 Got_8 Got_9 "
     ]
    }
   ],
   "source": [
    "gen_com = ('Got_'+str(x) for x in range(10))\n",
    "for ele in gen_com:\n",
    "    print(ele, end=' ')"
   ]
  },
  {
   "cell_type": "code",
   "execution_count": null,
   "id": "4206e5e0-22fd-4363-8879-cf033b4c2c2b",
   "metadata": {},
   "outputs": [],
   "source": [
    "8. Define a function called good that returns the list ['Harry', 'Ron', 'Hermione'].\n"
   ]
  },
  {
   "cell_type": "code",
   "execution_count": 8,
   "id": "b1632d28-b939-484e-afb9-1f40661162e0",
   "metadata": {},
   "outputs": [
    {
     "name": "stdout",
     "output_type": "stream",
     "text": [
      "['Harry', 'Ron', 'Hermione']\n"
     ]
    },
    {
     "data": {
      "text/plain": [
       "['Harry', 'Ron', 'Hermione']"
      ]
     },
     "execution_count": 8,
     "metadata": {},
     "output_type": "execute_result"
    }
   ],
   "source": [
    "def good():\n",
    "    x =  ['Harry', 'Ron', 'Hermione']\n",
    "    return x\n",
    "print(good())\n",
    "['Harry', 'Ron', 'Hermione']\n"
   ]
  },
  {
   "cell_type": "code",
   "execution_count": null,
   "id": "e4468cfa-9ff8-49fd-ad32-a8d72cd0ed04",
   "metadata": {},
   "outputs": [],
   "source": [
    "9. Define a generator function called get_odds that returns the odd numbers from range(10). Use a for loop to find and print the third value returned.\n"
   ]
  },
  {
   "cell_type": "code",
   "execution_count": 9,
   "id": "9e7d4bb6-eaa4-4934-bdd2-91a5b3924ddc",
   "metadata": {},
   "outputs": [
    {
     "data": {
      "text/plain": [
       "5"
      ]
     },
     "execution_count": 9,
     "metadata": {},
     "output_type": "execute_result"
    }
   ],
   "source": [
    "def get_odds():\n",
    "    output = []\n",
    "    for ele in range(10):\n",
    "        if ele%2 != 0:\n",
    "            output.append(ele)\n",
    "    yield output\n",
    "\n",
    "next(get_odds())[2]"
   ]
  },
  {
   "cell_type": "code",
   "execution_count": null,
   "id": "8a9b4663-9047-4b70-887c-9dc975cdc598",
   "metadata": {},
   "outputs": [],
   "source": [
    "10. Define an exception called OopsException. Raise this exception to see what happens. Then write the code to catch this exception and print 'Caught an oops'.\n",
    "\n"
   ]
  },
  {
   "cell_type": "code",
   "execution_count": 11,
   "id": "46e3774f-06df-4f61-b2c8-6326d58b1c95",
   "metadata": {},
   "outputs": [
    {
     "name": "stdout",
     "output_type": "stream",
     "text": [
      "Caught in Oops -> name 'a' is not defined\n"
     ]
    }
   ],
   "source": [
    "class OopsException(Exception):\n",
    "    pass\n",
    "\n",
    "def test(input):\n",
    "    if input <0:\n",
    "        raise OopsException(a)\n",
    "try:\n",
    "    test(-100)\n",
    "except Exception as e:\n",
    "    print('Caught in Oops ->',e)\n"
   ]
  },
  {
   "cell_type": "code",
   "execution_count": null,
   "id": "5be16ce6-b300-47f0-8cb2-7da7bf881c8d",
   "metadata": {},
   "outputs": [],
   "source": [
    "11. Use zip() to make a dictionary called movies that pairs these lists: titles = ['Creature of Habit', 'Crewel Fate'] and plots = ['A nun turns into a monster', 'A haunted yarn shop'].\n"
   ]
  },
  {
   "cell_type": "code",
   "execution_count": 12,
   "id": "05c608c6-8331-4e90-8901-8e045c70b6e9",
   "metadata": {},
   "outputs": [
    {
     "name": "stdout",
     "output_type": "stream",
     "text": [
      "{'Creature of Habit': 'A nun turns into a monster', 'Crewel Fate': 'A haunted yarn shop'}\n"
     ]
    }
   ],
   "source": [
    "titles = ['Creature of Habit', 'Crewel Fate']\n",
    "plots = ['A nun turns into a monster', 'A haunted yarn shop']\n",
    "output = dict(zip(titles,plots))\n",
    "print(output)"
   ]
  },
  {
   "cell_type": "code",
   "execution_count": null,
   "id": "e84a1f4c-42cd-4768-b664-83a5fc317aaa",
   "metadata": {},
   "outputs": [],
   "source": []
  }
 ],
 "metadata": {
  "kernelspec": {
   "display_name": "Python 3 (ipykernel)",
   "language": "python",
   "name": "python3"
  },
  "language_info": {
   "codemirror_mode": {
    "name": "ipython",
    "version": 3
   },
   "file_extension": ".py",
   "mimetype": "text/x-python",
   "name": "python",
   "nbconvert_exporter": "python",
   "pygments_lexer": "ipython3",
   "version": "3.10.6"
  }
 },
 "nbformat": 4,
 "nbformat_minor": 5
}

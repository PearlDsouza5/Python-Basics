{
 "cells": [
  {
   "cell_type": "code",
   "execution_count": null,
   "id": "b98a15f2-7f91-4833-aeb2-b336cebe6152",
   "metadata": {},
   "outputs": [],
   "source": [
    "1.\tWhat does RGBA stand for?\n",
    "RGBA color values are an extension of RGB color values with an alpha channel - which specifies the opacity for a color. \n",
    "An RGBA color value is specified with: rgba(red, green, blue, alpha)"
   ]
  },
  {
   "cell_type": "code",
   "execution_count": null,
   "id": "31bac314-e60f-4556-a466-e6e22b7469dd",
   "metadata": {},
   "outputs": [],
   "source": [
    "2.\tFrom the Pillow module, how do you get the RGBA value of any images?\n",
    "A function call to ImageColor.getcolor('CornflowerBlue', 'RGBA') will \n",
    "return (100, 149, 237, 255), the RGBA value for that color"
   ]
  },
  {
   "cell_type": "code",
   "execution_count": null,
   "id": "31f960b9-6edf-4232-8f57-89f47e9be3fa",
   "metadata": {},
   "outputs": [],
   "source": [
    "3.\tWhat is a box tuple, and how does it work?\n",
    "A box tuple is a tuple value of four integers: the left-edge x-coordinate, the top-edge y-coordinate, the width, and the height, respectively.\n"
   ]
  },
  {
   "cell_type": "code",
   "execution_count": null,
   "id": "6110b4ba-a777-4ac8-89a9-b7f561a56280",
   "metadata": {},
   "outputs": [],
   "source": [
    "4.\tUse your image and load in notebook then, How can you find out the width and height of an Image object?\n",
    "img.size is a tuple of two integers, the width and the height.\n"
   ]
  },
  {
   "cell_type": "code",
   "execution_count": null,
   "id": "306c665d-a4f0-4411-bea1-71647cb4d7e0",
   "metadata": {},
   "outputs": [],
   "source": [
    "5.\tWhat method would you call to get Image object for a 100×100 image, excluding the lower-left quarter of it?\n",
    "img.crop((0, 50, 50, 50)) #Notice that you are passing a box tuple to crop(), not four separate integer arguments.\n"
   ]
  },
  {
   "cell_type": "code",
   "execution_count": null,
   "id": "a34666cc-fd67-4ed7-b8ad-66160aeaa0dd",
   "metadata": {},
   "outputs": [],
   "source": [
    "6.\tAfter making changes to an Image object, how could you save it as an image file?\n",
    "all the img.save('newimg.jpg') method of the Image object.\n"
   ]
  },
  {
   "cell_type": "code",
   "execution_count": null,
   "id": "77f3d181-53b9-4ea5-8e95-0954b641085d",
   "metadata": {},
   "outputs": [],
   "source": [
    "7.\tWhat module contains Pillow’s shape-drawing code?\n",
    "The ImageDraw module contains code to draw on images.\n"
   ]
  },
  {
   "cell_type": "code",
   "execution_count": 1,
   "id": "37aa29b6-83ae-46ba-b3b8-f914f64c4dcc",
   "metadata": {},
   "outputs": [
    {
     "ename": "SyntaxError",
     "evalue": "invalid syntax (1751932977.py, line 2)",
     "output_type": "error",
     "traceback": [
      "\u001b[0;36m  Cell \u001b[0;32mIn [1], line 2\u001b[0;36m\u001b[0m\n\u001b[0;31m    ImageDraw objects have shape-drawing methods such as point(), line(), or rectangle(). They are returned by passing the Image object to the ImageDraw.Draw() function.\u001b[0m\n\u001b[0m              ^\u001b[0m\n\u001b[0;31mSyntaxError\u001b[0m\u001b[0;31m:\u001b[0m invalid syntax\n"
     ]
    }
   ],
   "source": [
    "8.\tImage objects do not have drawing methods. What kind of object does? How do you get this kind of object?\n",
    "ImageDraw objects have shape-drawing methods such as point(), line(), or rectangle(). \n",
    "They are returned by passing the Image object to the ImageDraw.Draw() function."
   ]
  },
  {
   "cell_type": "code",
   "execution_count": null,
   "id": "caecd2a4-8ac8-43b4-9b1c-d0e60c99c2df",
   "metadata": {},
   "outputs": [],
   "source": []
  }
 ],
 "metadata": {
  "kernelspec": {
   "display_name": "Python 3 (ipykernel)",
   "language": "python",
   "name": "python3"
  },
  "language_info": {
   "codemirror_mode": {
    "name": "ipython",
    "version": 3
   },
   "file_extension": ".py",
   "mimetype": "text/x-python",
   "name": "python",
   "nbconvert_exporter": "python",
   "pygments_lexer": "ipython3",
   "version": "3.10.6"
  }
 },
 "nbformat": 4,
 "nbformat_minor": 5
}

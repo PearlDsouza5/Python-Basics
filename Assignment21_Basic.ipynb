{
 "cells": [
  {
   "cell_type": "code",
   "execution_count": null,
   "id": "665989dc-3321-40fd-a482-35b5961bec8b",
   "metadata": {},
   "outputs": [],
   "source": [
    "1.\tAdd the current date to the text file today.txt as a string.\n",
    "from datetime import date\n"
   ]
  },
  {
   "cell_type": "code",
   "execution_count": 2,
   "id": "d40856e3-6891-4757-a23f-95dd581c6320",
   "metadata": {},
   "outputs": [],
   "source": [
    "from datetime import date\n",
    "now = date.today()\n",
    "now_str = now.isoformat()\n",
    "with open('today.txt', 'wt') as output:\n",
    "    print(now_str, file=output)"
   ]
  },
  {
   "cell_type": "code",
   "execution_count": null,
   "id": "b9e74372-fd21-4ec5-a0d6-21967a1fd703",
   "metadata": {},
   "outputs": [],
   "source": [
    "2.\tRead the text file today.txt into the string today_string"
   ]
  },
  {
   "cell_type": "code",
   "execution_count": 4,
   "id": "5c71ebb8-4c38-4c22-97cc-77a2ed353600",
   "metadata": {},
   "outputs": [
    {
     "name": "stdout",
     "output_type": "stream",
     "text": [
      "2023-09-01\n",
      "\n"
     ]
    }
   ],
   "source": [
    "file = open('today.txt','r')\n",
    "today_string = file.read()\n",
    "print(today_string)"
   ]
  },
  {
   "cell_type": "code",
   "execution_count": null,
   "id": "5e408cdc-d2ee-4267-afef-d85e4936b459",
   "metadata": {},
   "outputs": [],
   "source": [
    "3.\tParse the date from today_string."
   ]
  },
  {
   "cell_type": "code",
   "execution_count": 5,
   "id": "0e3c070c-66c5-4613-9f3f-a90ea9a4c9a2",
   "metadata": {},
   "outputs": [
    {
     "data": {
      "text/plain": [
       "datetime.datetime(2023, 9, 1, 0, 0)"
      ]
     },
     "execution_count": 5,
     "metadata": {},
     "output_type": "execute_result"
    }
   ],
   "source": [
    "from datetime import datetime\n",
    "fmt = '%Y-%m-%d\\n'\n",
    "datetime.strptime(today_string, fmt)\n"
   ]
  },
  {
   "cell_type": "code",
   "execution_count": null,
   "id": "d3e6c715-fced-499a-9d35-59a9f057c8d7",
   "metadata": {},
   "outputs": [],
   "source": [
    "4.\tList the files in your current directory"
   ]
  },
  {
   "cell_type": "code",
   "execution_count": 6,
   "id": "f9e04f91-0a4e-4fc3-bc57-49138db4afc6",
   "metadata": {},
   "outputs": [
    {
     "data": {
      "text/plain": [
       "['README.md',\n",
       " 'test.txt',\n",
       " 'Assignment14.ipynb',\n",
       " 'sample-code.ipynb',\n",
       " 'Assignment20.ipynb',\n",
       " '.git',\n",
       " 'Assignment16.ipynb',\n",
       " 'Assignment18.ipynb',\n",
       " 'Assignment17.ipynb',\n",
       " 'Assignment15.ipynb',\n",
       " 'books.db',\n",
       " 'Untitled.ipynb',\n",
       " '.ipynb_checkpoints',\n",
       " 'today.txt',\n",
       " 'Assignment19.ipynb',\n",
       " 'books.csv']"
      ]
     },
     "execution_count": 6,
     "metadata": {},
     "output_type": "execute_result"
    }
   ],
   "source": [
    "import os\n",
    "os.listdir('.')\n"
   ]
  },
  {
   "cell_type": "code",
   "execution_count": null,
   "id": "9d1bb925-4d8e-4484-93f7-3f72b9aea4cd",
   "metadata": {},
   "outputs": [],
   "source": [
    "5.\tCreate a list of all of the files in your parent directory (minimum five files should be available)."
   ]
  },
  {
   "cell_type": "code",
   "execution_count": 7,
   "id": "0a9ff6ef-1a02-4826-a3cb-16d304c4f4f7",
   "metadata": {},
   "outputs": [
    {
     "data": {
      "text/plain": [
       "['.profile',\n",
       " '.bash_logout',\n",
       " '.bashrc',\n",
       " '.ipython',\n",
       " '.cache',\n",
       " '.jupyter',\n",
       " '.local',\n",
       " '.conda',\n",
       " '.config',\n",
       " '.npm',\n",
       " '.wget-hsts',\n",
       " 'work']"
      ]
     },
     "execution_count": 7,
     "metadata": {},
     "output_type": "execute_result"
    }
   ],
   "source": [
    "os.listdir('..')"
   ]
  },
  {
   "cell_type": "code",
   "execution_count": null,
   "id": "0c8bb964-e97d-4043-83cc-882ce07d0e99",
   "metadata": {},
   "outputs": [],
   "source": [
    "6.\tUse multiprocessing to create three separate processes. Make each one wait a random number of seconds between one and five, \n",
    "print the current time, and then exit."
   ]
  },
  {
   "cell_type": "code",
   "execution_count": 8,
   "id": "784257b2-2682-4578-aed5-1520e2afb45d",
   "metadata": {},
   "outputs": [
    {
     "name": "stdout",
     "output_type": "stream",
     "text": [
      "Proc_two_Starttime -> 2023-09-01 07:39:22.295822Proc_one_Starttime -> 2023-09-01 07:39:22.289650\n",
      "\n",
      "Proc_two_Starttime -> 2023-09-01 07:39:22.315530\n",
      "Proc_one_Endtime -> 2023-09-01 07:39:24.371644\n",
      "Proc_two_Endtime -> 2023-09-01 07:39:25.372647\n",
      "Proc_two_Endtime -> 2023-09-01 07:39:27.417390\n"
     ]
    }
   ],
   "source": [
    "import multiprocessing\n",
    "import time \n",
    "import random\n",
    "import datetime\n",
    "\n",
    "def procOne():\n",
    "    print(f'Proc_one_Starttime -> {datetime.datetime.now()}')\n",
    "    time.sleep(random.randint(1,5))\n",
    "    print(f'Proc_one_Endtime -> {datetime.datetime.now()}')\n",
    "    \n",
    "def procTwo():\n",
    "    print(f'Proc_two_Starttime -> {datetime.datetime.now()}')\n",
    "    time.sleep(random.randint(1,5))\n",
    "    print(f'Proc_two_Endtime -> {datetime.datetime.now()}')\n",
    "\n",
    "def procThree():\n",
    "    print(f'Proc_two_Starttime -> {datetime.datetime.now()}')\n",
    "    time.sleep(random.randint(1,5))\n",
    "    print(f'Proc_two_Endtime -> {datetime.datetime.now()}')\n",
    "    \n",
    "if __name__ == \"__main__\":    \n",
    "    p1 = multiprocessing.Process(target=procOne)\n",
    "    p2 = multiprocessing.Process(target=procTwo)\n",
    "    p3 = multiprocessing.Process(target=procThree)\n",
    "\n",
    "    p1.start()\n",
    "    p2.start()\n",
    "    p3.start()\n",
    "\n",
    "    p1.join()\n",
    "    p2.join()\n",
    "    p3.join()"
   ]
  },
  {
   "cell_type": "code",
   "execution_count": null,
   "id": "ffcf0b13-39bf-4379-9aad-edef6070b213",
   "metadata": {},
   "outputs": [],
   "source": [
    "7.\tCreate a date object of your day of birth."
   ]
  },
  {
   "cell_type": "code",
   "execution_count": 12,
   "id": "a3a271d0-d84a-4be9-b0f1-c42a7a295869",
   "metadata": {},
   "outputs": [
    {
     "data": {
      "text/plain": [
       "datetime.date(1996, 7, 5)"
      ]
     },
     "execution_count": 12,
     "metadata": {},
     "output_type": "execute_result"
    }
   ],
   "source": [
    "my_day = date(1996, 7, 5)\n",
    "my_day\n"
   ]
  },
  {
   "cell_type": "code",
   "execution_count": null,
   "id": "56a75310-0670-4f6b-9464-4640f8aca276",
   "metadata": {},
   "outputs": [],
   "source": [
    "8.\tWhat day of the week was your day of birth?"
   ]
  },
  {
   "cell_type": "code",
   "execution_count": 16,
   "id": "d3206044-1dc0-4b93-be4b-6f89c10e993d",
   "metadata": {},
   "outputs": [
    {
     "data": {
      "text/plain": [
       "'Friday'"
      ]
     },
     "execution_count": 16,
     "metadata": {},
     "output_type": "execute_result"
    }
   ],
   "source": [
    "from datetime import datetime\n",
    "my_dob = datetime(1996,7,5)\n",
    "my_dob.strftime(\"%A\")"
   ]
  },
  {
   "cell_type": "code",
   "execution_count": null,
   "id": "bfb77b82-d8f8-46ef-9b05-20ddae0530da",
   "metadata": {},
   "outputs": [],
   "source": [
    "9.\tWhen will you be (or when were you) 10,000 days old?"
   ]
  },
  {
   "cell_type": "code",
   "execution_count": 15,
   "id": "e150de45-4923-4eb1-86c2-fbed36bb41cc",
   "metadata": {},
   "outputs": [
    {
     "data": {
      "text/plain": [
       "datetime.date(2023, 11, 21)"
      ]
     },
     "execution_count": 15,
     "metadata": {},
     "output_type": "execute_result"
    }
   ],
   "source": [
    "from datetime import timedelta\n",
    "ten_thousand = my_day + timedelta(days=10000)\n",
    "ten_thousand\n"
   ]
  },
  {
   "cell_type": "code",
   "execution_count": null,
   "id": "ce0dbf7d-a8c1-4be7-b946-53c6e3cbf38a",
   "metadata": {},
   "outputs": [],
   "source": []
  }
 ],
 "metadata": {
  "kernelspec": {
   "display_name": "Python 3 (ipykernel)",
   "language": "python",
   "name": "python3"
  },
  "language_info": {
   "codemirror_mode": {
    "name": "ipython",
    "version": 3
   },
   "file_extension": ".py",
   "mimetype": "text/x-python",
   "name": "python",
   "nbconvert_exporter": "python",
   "pygments_lexer": "ipython3",
   "version": "3.10.6"
  }
 },
 "nbformat": 4,
 "nbformat_minor": 5
}
